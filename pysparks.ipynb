{
  "nbformat": 4,
  "nbformat_minor": 0,
  "metadata": {
    "colab": {
      "name": "pysparks.ipynb",
      "provenance": []
    },
    "kernelspec": {
      "name": "python3",
      "display_name": "Python 3"
    },
    "language_info": {
      "name": "python"
    }
  },
  "cells": [
    {
      "cell_type": "code",
      "metadata": {
        "colab": {
          "base_uri": "https://localhost:8080/"
        },
        "id": "jn1saqAa4tIn",
        "outputId": "4f010683-f555-4fd2-df1a-37ff60cb749f"
      },
      "source": [
        "!pip install pyspark"
      ],
      "execution_count": null,
      "outputs": [
        {
          "output_type": "stream",
          "name": "stdout",
          "text": [
            "Collecting pyspark\n",
            "  Downloading pyspark-3.1.2.tar.gz (212.4 MB)\n",
            "\u001b[K     |████████████████████████████████| 212.4 MB 63 kB/s \n",
            "\u001b[?25hCollecting py4j==0.10.9\n",
            "  Downloading py4j-0.10.9-py2.py3-none-any.whl (198 kB)\n",
            "\u001b[K     |████████████████████████████████| 198 kB 50.0 MB/s \n",
            "\u001b[?25hBuilding wheels for collected packages: pyspark\n",
            "  Building wheel for pyspark (setup.py) ... \u001b[?25l\u001b[?25hdone\n",
            "  Created wheel for pyspark: filename=pyspark-3.1.2-py2.py3-none-any.whl size=212880768 sha256=fe068c8c98809540162a324226c1ec2e1ca7325e8198d508198b4d8f4b02c92f\n",
            "  Stored in directory: /root/.cache/pip/wheels/a5/0a/c1/9561f6fecb759579a7d863dcd846daaa95f598744e71b02c77\n",
            "Successfully built pyspark\n",
            "Installing collected packages: py4j, pyspark\n",
            "Successfully installed py4j-0.10.9 pyspark-3.1.2\n"
          ]
        }
      ]
    },
    {
      "cell_type": "code",
      "metadata": {
        "id": "xJUiJ85A5kX2"
      },
      "source": [
        "from pyspark.sql import SparkSession\n",
        "\n",
        "spark = SparkSession.builder.appName(\"PySparkDemo\").getOrCreate()"
      ],
      "execution_count": null,
      "outputs": []
    },
    {
      "cell_type": "code",
      "metadata": {
        "id": "fjH9Z2aO68-O"
      },
      "source": [
        "df = spark.createDataFrame(\n",
        "    [\n",
        "     ('Jack',42),\n",
        "     ('Jill',37),\n",
        "     ('John',35),\n",
        "     ('Jane',48),\n",
        "    ], ['name','age']\n",
        ")"
      ],
      "execution_count": null,
      "outputs": []
    },
    {
      "cell_type": "code",
      "metadata": {
        "colab": {
          "base_uri": "https://localhost:8080/"
        },
        "id": "7-gO-PT38QR7",
        "outputId": "7728b64e-1639-4e54-a6ac-d47a42ad6184"
      },
      "source": [
        "df.printSchema()"
      ],
      "execution_count": null,
      "outputs": [
        {
          "output_type": "stream",
          "name": "stdout",
          "text": [
            "root\n",
            " |-- name: string (nullable = true)\n",
            " |-- age: long (nullable = true)\n",
            "\n"
          ]
        }
      ]
    },
    {
      "cell_type": "code",
      "metadata": {
        "colab": {
          "base_uri": "https://localhost:8080/"
        },
        "id": "czTqnRba8Tn-",
        "outputId": "929ef9d3-1747-43cb-c7c5-d29fb708854c"
      },
      "source": [
        "df.show()"
      ],
      "execution_count": null,
      "outputs": [
        {
          "output_type": "stream",
          "name": "stdout",
          "text": [
            "+----+---+\n",
            "|name|age|\n",
            "+----+---+\n",
            "|Jack| 42|\n",
            "|Jill| 37|\n",
            "|John| 35|\n",
            "|Jane| 48|\n",
            "+----+---+\n",
            "\n"
          ]
        }
      ]
    },
    {
      "cell_type": "code",
      "metadata": {
        "colab": {
          "base_uri": "https://localhost:8080/"
        },
        "id": "faYDLcoh82pE",
        "outputId": "1fda2005-014b-481a-8fa1-18e57151fb1b"
      },
      "source": [
        "over40 = df.filter(df.age > 40)\n",
        "over40.show()"
      ],
      "execution_count": null,
      "outputs": [
        {
          "output_type": "stream",
          "name": "stdout",
          "text": [
            "+----+---+\n",
            "|name|age|\n",
            "+----+---+\n",
            "|Jack| 42|\n",
            "|Jane| 48|\n",
            "+----+---+\n",
            "\n"
          ]
        }
      ]
    },
    {
      "cell_type": "code",
      "metadata": {
        "colab": {
          "base_uri": "https://localhost:8080/"
        },
        "id": "n4E1toCD9lJ2",
        "outputId": "caec123a-682c-453d-b696-678af513f1d8"
      },
      "source": [
        "rows = over40.count()\n",
        "print(rows)"
      ],
      "execution_count": null,
      "outputs": [
        {
          "output_type": "stream",
          "name": "stdout",
          "text": [
            "2\n"
          ]
        }
      ]
    },
    {
      "cell_type": "code",
      "metadata": {
        "colab": {
          "base_uri": "https://localhost:8080/"
        },
        "id": "xL_Ucd_09sO9",
        "outputId": "a9382ac3-c04c-4c79-b525-2fbe6083b070"
      },
      "source": [
        "#CSV\n",
        "\n",
        "from pyspark.sql.functions import col\n",
        "from pyspark.sql.types import IntegerType\n",
        "\n",
        "df = spark.read.option(\"header\", True).csv(\"policy.csv\")\n",
        "df.printSchema()"
      ],
      "execution_count": null,
      "outputs": [
        {
          "output_type": "stream",
          "name": "stdout",
          "text": [
            "root\n",
            " |-- policy: string (nullable = true)\n",
            " |-- make: string (nullable = true)\n",
            " |-- vehicle_age: string (nullable = true)\n",
            " |-- sum_insured: string (nullable = true)\n",
            " |-- inception_date: string (nullable = true)\n",
            " |-- start_date: string (nullable = true)\n",
            " |-- end_date: string (nullable = true)\n",
            " |-- premium: string (nullable = true)\n",
            "\n"
          ]
        }
      ]
    },
    {
      "cell_type": "code",
      "metadata": {
        "colab": {
          "base_uri": "https://localhost:8080/"
        },
        "id": "liMzltfQ-44M",
        "outputId": "8db1767f-c783-4bb6-a327-9141ebaaaf6e"
      },
      "source": [
        "df.show(5)"
      ],
      "execution_count": null,
      "outputs": [
        {
          "output_type": "stream",
          "name": "stdout",
          "text": [
            "+-------+------+-----------+-----------+--------------+----------+--------+-------+\n",
            "| policy|  make|vehicle_age|sum_insured|inception_date|start_date|end_date|premium|\n",
            "+-------+------+-----------+-----------+--------------+----------+--------+-------+\n",
            "|CAR0001|TOYOTA|          1|      15000|      20180101|  20180101|20181231|   1000|\n",
            "|CAR0001|TOYOTA|          2|      13500|      20180101|  20190101|20191231|    900|\n",
            "|CAR0001|TOYOTA|          3|      12000|      20180101|  20200101|20201231|    800|\n",
            "|CAR0002|SUBARU|          2|      14000|      20200210|  20200210|20210209|    950|\n",
            "|CAR0003|  FORD|          6|      10000|      20180315|  20180315|20190314|    700|\n",
            "+-------+------+-----------+-----------+--------------+----------+--------+-------+\n",
            "only showing top 5 rows\n",
            "\n"
          ]
        }
      ]
    },
    {
      "cell_type": "code",
      "metadata": {
        "colab": {
          "base_uri": "https://localhost:8080/"
        },
        "id": "JLFhm6gL_Rd2",
        "outputId": "041c25ec-a133-4969-9d1b-cc94b3c24162"
      },
      "source": [
        "df2 = spark.read.option(\"header\", True).csv(\"policy.csv\") \\\n",
        "      .withColumn(\"sum_insured\", col(\"sum_insured\").cast(IntegerType())) \\\n",
        "      .withColumn(\"vehicle_age\", col(\"vehicle_age\").cast(IntegerType())) \\\n",
        "      .withColumn(\"premium\", col(\"premium\").cast(IntegerType()))\n",
        "\n",
        "df2.show(1)\n",
        "df2.printSchema()"
      ],
      "execution_count": null,
      "outputs": [
        {
          "output_type": "stream",
          "name": "stdout",
          "text": [
            "+-------+------+-----------+-----------+--------------+----------+--------+-------+\n",
            "| policy|  make|vehicle_age|sum_insured|inception_date|start_date|end_date|premium|\n",
            "+-------+------+-----------+-----------+--------------+----------+--------+-------+\n",
            "|CAR0001|TOYOTA|          1|      15000|      20180101|  20180101|20181231|   1000|\n",
            "+-------+------+-----------+-----------+--------------+----------+--------+-------+\n",
            "only showing top 1 row\n",
            "\n",
            "root\n",
            " |-- policy: string (nullable = true)\n",
            " |-- make: string (nullable = true)\n",
            " |-- vehicle_age: integer (nullable = true)\n",
            " |-- sum_insured: integer (nullable = true)\n",
            " |-- inception_date: string (nullable = true)\n",
            " |-- start_date: string (nullable = true)\n",
            " |-- end_date: string (nullable = true)\n",
            " |-- premium: integer (nullable = true)\n",
            "\n"
          ]
        }
      ]
    },
    {
      "cell_type": "code",
      "metadata": {
        "colab": {
          "base_uri": "https://localhost:8080/"
        },
        "id": "4jEGcPCPCoU5",
        "outputId": "5e0fdc26-0151-4692-ef0e-8500f98644aa"
      },
      "source": [
        "#flights.csv /mon/dom/dow/mile/duration\n",
        "\n",
        "from pyspark.sql.functions import col\n",
        "from pyspark.sql.types import IntegerType\n",
        "from pyspark.sql.types import StringType\n",
        "\n",
        "df = spark.read.option(\"header\", True).csv(\"flights.csv\")\n",
        "#df.show(1)\n",
        "df.printSchema()\n",
        "\n",
        "df2 = spark.read.option(\"header\", True).csv(\"flights.csv\") \\\n",
        "      .withColumn(\"mon\", col(\"mon\").cast(IntegerType())) \\\n",
        "      .withColumn(\"dom\", col(\"dom\").cast(IntegerType())) \\\n",
        "      .withColumn(\"dow\", col(\"dow\").cast(IntegerType())) \\\n",
        "      .withColumn(\"mile\", col(\"mile\").cast(IntegerType())) \\\n",
        "      .withColumn(\"duration\", col(\"duration\").cast(IntegerType()))\n",
        "\n",
        "df2.show(1)\n",
        "df2.printSchema()\n"
      ],
      "execution_count": null,
      "outputs": [
        {
          "output_type": "stream",
          "name": "stdout",
          "text": [
            "root\n",
            " |-- mon: string (nullable = true)\n",
            " |-- dom: string (nullable = true)\n",
            " |-- dow: string (nullable = true)\n",
            " |-- carrier: string (nullable = true)\n",
            " |-- flight: string (nullable = true)\n",
            " |-- org: string (nullable = true)\n",
            " |-- mile: string (nullable = true)\n",
            " |-- depart: string (nullable = true)\n",
            " |-- duration: string (nullable = true)\n",
            " |-- delay: string (nullable = true)\n",
            "\n",
            "+---+---+---+-------+------+---+----+------+--------+-----+\n",
            "|mon|dom|dow|carrier|flight|org|mile|depart|duration|delay|\n",
            "+---+---+---+-------+------+---+----+------+--------+-----+\n",
            "| 11| 20|  6|     US|    19|JFK|2153|  9.48|     351|   NA|\n",
            "+---+---+---+-------+------+---+----+------+--------+-----+\n",
            "only showing top 1 row\n",
            "\n",
            "root\n",
            " |-- mon: integer (nullable = true)\n",
            " |-- dom: integer (nullable = true)\n",
            " |-- dow: integer (nullable = true)\n",
            " |-- carrier: string (nullable = true)\n",
            " |-- flight: string (nullable = true)\n",
            " |-- org: string (nullable = true)\n",
            " |-- mile: integer (nullable = true)\n",
            " |-- depart: string (nullable = true)\n",
            " |-- duration: integer (nullable = true)\n",
            " |-- delay: string (nullable = true)\n",
            "\n"
          ]
        }
      ]
    },
    {
      "cell_type": "code",
      "metadata": {
        "id": "WR4RTFyAcHVQ"
      },
      "source": [
        "#data transformation\n",
        "\n",
        "from pyspark.sql import SparkSession\n",
        "from pyspark.sql.functions import col,when,lit,concat,to_date,rank\n",
        "import pyspark.sql.functions as F\n",
        "from pyspark.sql.types import IntegerType\n",
        "from pyspark.sql.window import Window\n",
        "\n",
        "spark = SparkSession.builder.appName(\"PySparkTutorial\").getOrCreate()\n",
        "\n",
        "policyDF = spark.read.option(\"header\", True).csv(\"policy.csv\") \\\n",
        "      .withColumn(\"sum_insured\", col(\"sum_insured\").cast(IntegerType())) \\\n",
        "      .withColumn(\"vehicle_age\", col(\"vehicle_age\").cast(IntegerType())) \\\n",
        "      .withColumn(\"premium\", col(\"premium\").cast(IntegerType()))\n",
        "\n",
        "claimsDF = spark.read.option(\"header\", True).csv(\"claims.csv\") \\\n",
        "      .withColumn(\"cost\", col(\"cost\").cast(IntegerType()))"
      ],
      "execution_count": null,
      "outputs": []
    },
    {
      "cell_type": "code",
      "metadata": {
        "id": "450-NdoogTmy"
      },
      "source": [
        ""
      ],
      "execution_count": null,
      "outputs": []
    },
    {
      "cell_type": "code",
      "metadata": {
        "colab": {
          "base_uri": "https://localhost:8080/"
        },
        "id": "nXfn8Sa1e-2E",
        "outputId": "b51ef7cf-8bd9-45e7-c501-507ef14cdefc"
      },
      "source": [
        "policyDF.printSchema()\n",
        "claimsDF.printSchema()"
      ],
      "execution_count": null,
      "outputs": [
        {
          "output_type": "stream",
          "name": "stdout",
          "text": [
            "root\n",
            " |-- policy: string (nullable = true)\n",
            " |-- make: string (nullable = true)\n",
            " |-- vehicle_age: integer (nullable = true)\n",
            " |-- sum_insured: integer (nullable = true)\n",
            " |-- inception_date: string (nullable = true)\n",
            " |-- start_date: string (nullable = true)\n",
            " |-- end_date: string (nullable = true)\n",
            " |-- premium: integer (nullable = true)\n",
            "\n",
            "root\n",
            " |-- policy: string (nullable = true)\n",
            " |-- incident_date: string (nullable = true)\n",
            " |-- cost: integer (nullable = true)\n",
            "\n"
          ]
        }
      ]
    },
    {
      "cell_type": "code",
      "metadata": {
        "colab": {
          "base_uri": "https://localhost:8080/"
        },
        "id": "hH5wXww-gZkI",
        "outputId": "5be40c3c-37a3-4d9d-82d5-a301dd914512"
      },
      "source": [
        "policyDF = policyDF.withColumn(\"status\", when(policyDF.start_date == policyDF.inception_date,\n",
        "                               \"New Business\").otherwise(\"Renewal\"))\n",
        "\n",
        "policyDF.show(3)"
      ],
      "execution_count": null,
      "outputs": [
        {
          "output_type": "stream",
          "name": "stdout",
          "text": [
            "+-------+------+-----------+-----------+--------------+----------+--------+-------+------------+\n",
            "| policy|  make|vehicle_age|sum_insured|inception_date|start_date|end_date|premium|      status|\n",
            "+-------+------+-----------+-----------+--------------+----------+--------+-------+------------+\n",
            "|CAR0001|TOYOTA|          1|      15000|      20180101|  20180101|20181231|   1000|New Business|\n",
            "|CAR0001|TOYOTA|          2|      13500|      20180101|  20190101|20191231|    900|     Renewal|\n",
            "|CAR0001|TOYOTA|          3|      12000|      20180101|  20200101|20201231|    800|     Renewal|\n",
            "+-------+------+-----------+-----------+--------------+----------+--------+-------+------------+\n",
            "only showing top 3 rows\n",
            "\n"
          ]
        }
      ]
    },
    {
      "cell_type": "code",
      "metadata": {
        "colab": {
          "base_uri": "https://localhost:8080/"
        },
        "id": "qc9Qm1aAjmbD",
        "outputId": "0b787488-e4f3-4eb4-a06c-9c6e8dafebec"
      },
      "source": [
        "def fix_dates(df):\n",
        "  for column in df.columns:\n",
        "    if column.endswith(\"_date\") and dict(df.dtypes)[column] == 'string':\n",
        "      print(\"NOTE:Fixing date column '{}'.\".format(column))\n",
        "      df = df.withColumn(column,to_date(df[column],\"yyyyMMdd\"))\n",
        "  return df\n",
        "\n",
        "policyDF = fix_dates(policyDF)\n",
        "claimsDF = fix_dates(claimsDF)"
      ],
      "execution_count": null,
      "outputs": [
        {
          "output_type": "stream",
          "name": "stdout",
          "text": [
            "NOTE:Fixing date column 'inception_date'.\n",
            "NOTE:Fixing date column 'start_date'.\n",
            "NOTE:Fixing date column 'end_date'.\n",
            "NOTE:Fixing date column 'incident_date'.\n"
          ]
        }
      ]
    },
    {
      "cell_type": "code",
      "metadata": {
        "colab": {
          "base_uri": "https://localhost:8080/"
        },
        "id": "NXCZ26Jqm1nj",
        "outputId": "b3237a7c-f3e9-4723-e520-e718ce7d8d73"
      },
      "source": [
        "#joining\n",
        "\n",
        "combinedDF = policyDF.select([\"policy\",\"make\",\"vehicle_age\",\"sum_insured\",\n",
        "                              \"start_date\",\"end_date\",\"premium\"]) \\\n",
        "                              .join(claimsDF,(policyDF.policy == claimsDF.policy) &\n",
        "                                    (policyDF.start_date <= claimsDF.incident_date) &\n",
        "                                    (policyDF.end_date >= claimsDF.incident_date))\n",
        "                              \n",
        "combinedDF.show()"
      ],
      "execution_count": null,
      "outputs": [
        {
          "output_type": "stream",
          "name": "stdout",
          "text": [
            "+-------+------+-----------+-----------+----------+----------+-------+-------+-------------+-----+\n",
            "| policy|  make|vehicle_age|sum_insured|start_date|  end_date|premium| policy|incident_date| cost|\n",
            "+-------+------+-----------+-----------+----------+----------+-------+-------+-------------+-----+\n",
            "|CAR0001|TOYOTA|          3|      12000|2020-01-01|2020-12-31|    800|CAR0001|   2020-06-05| 5000|\n",
            "|CAR0004| MAZDA|          5|      10000|2020-04-02|2021-04-01|    700|CAR0004|   2020-06-10| 3000|\n",
            "|CAR0007|   BMW|          4|      24000|2020-07-13|2021-07-12|   1600|CAR0007|   2020-09-10|24000|\n",
            "|CAR0009| TESLA|          1|      72000|2019-09-17|2020-09-16|   4800|CAR0009|   2020-02-10|15000|\n",
            "+-------+------+-----------+-----------+----------+----------+-------+-------+-------------+-----+\n",
            "\n"
          ]
        }
      ]
    },
    {
      "cell_type": "code",
      "metadata": {
        "colab": {
          "base_uri": "https://localhost:8080/"
        },
        "id": "pfXntpb1vFo-",
        "outputId": "1e3c0598-93e1-40e3-f509-82cfb604d103"
      },
      "source": [
        "combinedDF = policyDF.select([\"policy\",\"make\",\"vehicle_age\",\"sum_insured\",\n",
        "                              \"start_date\",\"end_date\",\"premium\"]) \\\n",
        "                              .join(claimsDF,(policyDF.policy == claimsDF.policy))\n",
        "                              \n",
        "combinedDF.show()"
      ],
      "execution_count": null,
      "outputs": [
        {
          "output_type": "stream",
          "name": "stdout",
          "text": [
            "+-------+------+-----------+-----------+----------+----------+-------+-------+-------------+-----+\n",
            "| policy|  make|vehicle_age|sum_insured|start_date|  end_date|premium| policy|incident_date| cost|\n",
            "+-------+------+-----------+-----------+----------+----------+-------+-------+-------------+-----+\n",
            "|CAR0001|TOYOTA|          1|      15000|2018-01-01|2018-12-31|   1000|CAR0001|   2020-06-05| 5000|\n",
            "|CAR0001|TOYOTA|          2|      13500|2019-01-01|2019-12-31|    900|CAR0001|   2020-06-05| 5000|\n",
            "|CAR0001|TOYOTA|          3|      12000|2020-01-01|2020-12-31|    800|CAR0001|   2020-06-05| 5000|\n",
            "|CAR0004| MAZDA|          4|      11000|2019-04-02|2020-04-01|    750|CAR0004|   2020-06-10| 3000|\n",
            "|CAR0004| MAZDA|          5|      10000|2020-04-02|2021-04-01|    700|CAR0004|   2020-06-10| 3000|\n",
            "|CAR0007|   BMW|          4|      24000|2020-07-13|2021-07-12|   1600|CAR0007|   2020-09-10|24000|\n",
            "|CAR0009| TESLA|          1|      72000|2019-09-17|2020-09-16|   4800|CAR0009|   2020-02-10|15000|\n",
            "|CAR0009| TESLA|          2|      65000|2020-09-17|2021-09-16|   3500|CAR0009|   2020-02-10|15000|\n",
            "+-------+------+-----------+-----------+----------+----------+-------+-------+-------------+-----+\n",
            "\n"
          ]
        }
      ]
    },
    {
      "cell_type": "code",
      "metadata": {
        "colab": {
          "base_uri": "https://localhost:8080/"
        },
        "id": "ONvCAxuMsb2h",
        "outputId": "55d18abd-f0ef-4157-bd3d-2cfdae686dd1"
      },
      "source": [
        "#windowing functions\n",
        "\n",
        "policyDF = policyDF.withColumn(\"policy_term\",rank().over(Window.partitionBy(\"policy\").orderBy(\"start_date\")))\\\n",
        ".withColumn(\"total_premium\",F.sum(\"premium\").over(Window.partitionBy(\"policy\")\n",
        ".orderBy(\"start_date\"))) \\\n",
        ".withColumn(\"policy_id\",concat(policyDF.policy,lit(\"~\"),col(\"policy_term\")))\n",
        "\n",
        "policyDF.select([\"policy\",\"start_date\",\"policy_term\",\"premium\",\"total_premium\",\"policy_id\"]).show()"
      ],
      "execution_count": null,
      "outputs": [
        {
          "output_type": "stream",
          "name": "stdout",
          "text": [
            "+-------+----------+-----------+-------+-------------+---------+\n",
            "| policy|start_date|policy_term|premium|total_premium|policy_id|\n",
            "+-------+----------+-----------+-------+-------------+---------+\n",
            "|CAR0002|2020-02-10|          1|    950|          950|CAR0002~1|\n",
            "|CAR0001|2018-01-01|          1|   1000|         1000|CAR0001~1|\n",
            "|CAR0001|2019-01-01|          2|    900|         1900|CAR0001~2|\n",
            "|CAR0001|2020-01-01|          3|    800|         2700|CAR0001~3|\n",
            "|CAR0006|2020-06-18|          1|    300|          300|CAR0006~1|\n",
            "|CAR0007|2020-07-13|          1|   1600|         1600|CAR0007~1|\n",
            "|CAR0008|2020-08-11|          1|   1800|         1800|CAR0008~1|\n",
            "|CAR0004|2019-04-02|          1|    750|          750|CAR0004~1|\n",
            "|CAR0004|2020-04-02|          2|    700|         1450|CAR0004~2|\n",
            "|CAR0009|2019-09-17|          1|   4800|         4800|CAR0009~1|\n",
            "|CAR0009|2020-09-17|          2|   3500|         8300|CAR0009~2|\n",
            "|CAR0010|2020-10-15|          1|    300|          300|CAR0010~1|\n",
            "|CAR0005|2020-05-16|          1|    400|          400|CAR0005~1|\n",
            "|CAR0003|2018-03-15|          1|    700|          700|CAR0003~1|\n",
            "|CAR0003|2019-03-15|          2|    600|         1300|CAR0003~2|\n",
            "|CAR0003|2020-03-15|          3|    550|         1850|CAR0003~3|\n",
            "+-------+----------+-----------+-------+-------------+---------+\n",
            "\n"
          ]
        }
      ]
    },
    {
      "cell_type": "code",
      "metadata": {
        "colab": {
          "base_uri": "https://localhost:8080/"
        },
        "id": "sjCx2MG_2rTj",
        "outputId": "0dea2aff-d4ff-4a21-9d8b-1cb8e6a44ec1"
      },
      "source": [
        "#summarization\n",
        "summary = policyDF.groupBy(\"status\").sum(\"sum_insured\").withColumnRenamed(\"sum(sum_insured)\",\"total_insured\")\n",
        "summary.show()"
      ],
      "execution_count": null,
      "outputs": [
        {
          "output_type": "stream",
          "name": "stdout",
          "text": [
            "+------------+-------------+\n",
            "|      status|total_insured|\n",
            "+------------+-------------+\n",
            "|     Renewal|       107500|\n",
            "|New Business|       199000|\n",
            "+------------+-------------+\n",
            "\n"
          ]
        }
      ]
    },
    {
      "cell_type": "code",
      "metadata": {
        "colab": {
          "base_uri": "https://localhost:8080/"
        },
        "id": "lUqpV6Xm3jhY",
        "outputId": "b1cf50f4-1bdf-4945-f7bb-50870a343b69"
      },
      "source": [
        "policyDF.crosstab(\"status\",\"make\").show()"
      ],
      "execution_count": null,
      "outputs": [
        {
          "output_type": "stream",
          "name": "stdout",
          "text": [
            "+------------+----+---+----+------+-------+-----+------+------+-----+------+\n",
            "| status_make|AUDI|BMW|FORD|HOLDEN|HYUNDAI|MAZDA|SUBARU|SUZUKI|TESLA|TOYOTA|\n",
            "+------------+----+---+----+------+-------+-----+------+------+-----+------+\n",
            "|New Business|   1|  1|   1|     1|      1|    2|     1|     1|    1|     1|\n",
            "|     Renewal|   0|  0|   2|     0|      0|    0|     0|     0|    1|     2|\n",
            "+------------+----+---+----+------+-------+-----+------+------+-----+------+\n",
            "\n"
          ]
        }
      ]
    },
    {
      "cell_type": "code",
      "metadata": {
        "colab": {
          "base_uri": "https://localhost:8080/"
        },
        "id": "Zbb_xaKj26lU",
        "outputId": "f2bb1cd7-98c5-410a-91ff-b9acfecf193a"
      },
      "source": [
        "#CSV\n",
        "\n",
        "from pyspark.sql.functions import col\n",
        "from pyspark.sql.types import IntegerType\n",
        "from pyspark.sql.types import DoubleType\n",
        "from pyspark.sql.types import TimestampType\n",
        "\n",
        "df = spark.read.option(\"header\", True).csv(\"walmart_stock.csv\")\n",
        "\n",
        "#what are the column names?\n",
        "print(df.columns)\n",
        "print()\n",
        "\n",
        "#what does the schema look like?\n",
        "df = df \\\n",
        "      .withColumn(\"Date\", col(\"Date\").cast(TimestampType())) \\\n",
        "      .withColumn(\"Open\", col(\"Open\").cast(DoubleType())) \\\n",
        "      .withColumn(\"High\", col(\"High\").cast(DoubleType())) \\\n",
        "      .withColumn(\"Low\", col(\"Low\").cast(DoubleType())) \\\n",
        "      .withColumn(\"Close\", col(\"Close\").cast(DoubleType())) \\\n",
        "      .withColumn(\"Volume\", col(\"Volume\").cast(IntegerType())) \\\n",
        "      .withColumn(\"Adj Close\", col(\"Adj Close\").cast(DoubleType()))\n",
        "\n",
        "\n",
        "df.printSchema()\n",
        "print()\n",
        "\n",
        "df.show(5)\n",
        "\n",
        "print()\n",
        "df.describe().show()\n",
        "\n",
        "for row in df.head(5):\n",
        "  print(row)\n",
        "  print(\"\\n\")\n",
        "\n"
      ],
      "execution_count": null,
      "outputs": [
        {
          "output_type": "stream",
          "name": "stdout",
          "text": [
            "['Date', 'Open', 'High', 'Low', 'Close', 'Volume', 'Adj Close']\n",
            "\n",
            "root\n",
            " |-- Date: timestamp (nullable = true)\n",
            " |-- Open: double (nullable = true)\n",
            " |-- High: double (nullable = true)\n",
            " |-- Low: double (nullable = true)\n",
            " |-- Close: double (nullable = true)\n",
            " |-- Volume: integer (nullable = true)\n",
            " |-- Adj Close: double (nullable = true)\n",
            "\n",
            "\n",
            "+-------------------+------------------+---------+---------+------------------+--------+------------------+\n",
            "|               Date|              Open|     High|      Low|             Close|  Volume|         Adj Close|\n",
            "+-------------------+------------------+---------+---------+------------------+--------+------------------+\n",
            "|2012-01-03 00:00:00|         59.970001|61.060001|59.869999|         60.330002|12668800|52.619234999999996|\n",
            "|2012-01-04 00:00:00|60.209998999999996|60.349998|59.470001|59.709998999999996| 9593300|         52.078475|\n",
            "|2012-01-05 00:00:00|         59.349998|59.619999|58.369999|         59.419998|12768200|         51.825539|\n",
            "|2012-01-06 00:00:00|         59.419998|59.450001|58.869999|              59.0| 8069400|          51.45922|\n",
            "|2012-01-09 00:00:00|         59.029999|59.549999|58.919998|             59.18| 6679300|51.616215000000004|\n",
            "+-------------------+------------------+---------+---------+------------------+--------+------------------+\n",
            "only showing top 5 rows\n",
            "\n",
            "\n",
            "+-------+------------------+-----------------+-----------------+-----------------+-----------------+-----------------+\n",
            "|summary|              Open|             High|              Low|            Close|           Volume|        Adj Close|\n",
            "+-------+------------------+-----------------+-----------------+-----------------+-----------------+-----------------+\n",
            "|  count|              1258|             1258|             1258|             1258|             1258|             1258|\n",
            "|   mean| 72.35785375357709|72.83938807631165| 71.9186009594594|72.38844998012726|8222093.481717011|67.23883848728146|\n",
            "| stddev|  6.76809024470826|6.768186808159218|6.744075756255496|6.756859163732991|  4519780.8431556|6.722609449996857|\n",
            "|    min|56.389998999999996|        57.060001|        56.299999|        56.419998|          2094900|        50.363689|\n",
            "|    max|         90.800003|        90.970001|            89.25|        90.470001|         80898100|84.91421600000001|\n",
            "+-------+------------------+-----------------+-----------------+-----------------+-----------------+-----------------+\n",
            "\n",
            "Row(Date=datetime.datetime(2012, 1, 3, 0, 0), Open=59.970001, High=61.060001, Low=59.869999, Close=60.330002, Volume=12668800, Adj Close=52.619234999999996)\n",
            "\n",
            "\n",
            "Row(Date=datetime.datetime(2012, 1, 4, 0, 0), Open=60.209998999999996, High=60.349998, Low=59.470001, Close=59.709998999999996, Volume=9593300, Adj Close=52.078475)\n",
            "\n",
            "\n",
            "Row(Date=datetime.datetime(2012, 1, 5, 0, 0), Open=59.349998, High=59.619999, Low=58.369999, Close=59.419998, Volume=12768200, Adj Close=51.825539)\n",
            "\n",
            "\n",
            "Row(Date=datetime.datetime(2012, 1, 6, 0, 0), Open=59.419998, High=59.450001, Low=58.869999, Close=59.0, Volume=8069400, Adj Close=51.45922)\n",
            "\n",
            "\n",
            "Row(Date=datetime.datetime(2012, 1, 9, 0, 0), Open=59.029999, High=59.549999, Low=58.919998, Close=59.18, Volume=6679300, Adj Close=51.616215000000004)\n",
            "\n",
            "\n"
          ]
        }
      ]
    },
    {
      "cell_type": "code",
      "metadata": {
        "colab": {
          "base_uri": "https://localhost:8080/"
        },
        "id": "c7N4t1syC4KR",
        "outputId": "a51a4377-b011-4cd9-d256-a2133f58d78b"
      },
      "source": [
        "#There are too many decimal places for mean and stddev in the describe() dataframe. Format the numbers to just show up to two decimal places.\n",
        "from pyspark.sql.functions import format_number\n",
        "\n",
        "summary = df.describe()\n",
        "summary.select(summary['summary'],\n",
        "                  format_number(summary['Open'].cast('float'), 2).alias('Open'),\n",
        "                  format_number(summary['High'].cast('float'), 2).alias('High'),\n",
        "                  format_number(summary['Low'].cast('float'), 2).alias('Low'),\n",
        "                  format_number(summary['Close'].cast('float'), 2).alias('Close'),\n",
        "                  format_number(summary['Volume'].cast('int'),0).alias('Volume')\n",
        "                 ).show()"
      ],
      "execution_count": null,
      "outputs": [
        {
          "output_type": "stream",
          "name": "stdout",
          "text": [
            "+-------+--------+--------+--------+--------+----------+\n",
            "|summary|    Open|    High|     Low|   Close|    Volume|\n",
            "+-------+--------+--------+--------+--------+----------+\n",
            "|  count|1,258.00|1,258.00|1,258.00|1,258.00|     1,258|\n",
            "|   mean|   72.36|   72.84|   71.92|   72.39| 8,222,093|\n",
            "| stddev|    6.77|    6.77|    6.74|    6.76| 4,519,780|\n",
            "|    min|   56.39|   57.06|   56.30|   56.42| 2,094,900|\n",
            "|    max|   90.80|   90.97|   89.25|   90.47|80,898,100|\n",
            "+-------+--------+--------+--------+--------+----------+\n",
            "\n"
          ]
        }
      ]
    },
    {
      "cell_type": "code",
      "metadata": {
        "colab": {
          "base_uri": "https://localhost:8080/"
        },
        "id": "2-mv5bjLFERS",
        "outputId": "1cf6ad2a-7fad-4052-f89e-02053ac2d0d6"
      },
      "source": [
        "df_hv = df.withColumn('HV Ratio', df['High']/df['Volume']).select(['HV Ratio'])\n",
        "df_hv.show()"
      ],
      "execution_count": null,
      "outputs": [
        {
          "output_type": "stream",
          "name": "stdout",
          "text": [
            "+--------------------+\n",
            "|            HV Ratio|\n",
            "+--------------------+\n",
            "|4.819714653321546E-6|\n",
            "|6.290848613094555E-6|\n",
            "|4.669412994783916E-6|\n",
            "|7.367338463826307E-6|\n",
            "|8.915604778943901E-6|\n",
            "|8.644477436914568E-6|\n",
            "|9.351828421515645E-6|\n",
            "| 8.29141562102703E-6|\n",
            "|7.712212102001476E-6|\n",
            "|7.071764823529412E-6|\n",
            "|1.015495466386981E-5|\n",
            "|6.576354146362592...|\n",
            "| 5.90145296180676E-6|\n",
            "|8.547679455011844E-6|\n",
            "|8.420709512685392E-6|\n",
            "|1.041448341728929...|\n",
            "|8.316075414862431E-6|\n",
            "|9.721183814992126E-6|\n",
            "|8.029436027707578E-6|\n",
            "|6.307432259386365E-6|\n",
            "+--------------------+\n",
            "only showing top 20 rows\n",
            "\n"
          ]
        }
      ]
    },
    {
      "cell_type": "code",
      "metadata": {
        "colab": {
          "base_uri": "https://localhost:8080/"
        },
        "id": "eSZs_T8bFQjU",
        "outputId": "b7bc6958-e9d8-4c32-9439-5815340b2143"
      },
      "source": [
        "df.orderBy(df['High'].desc()).select(['Date']).head(1)[0]['Date']"
      ],
      "execution_count": null,
      "outputs": [
        {
          "output_type": "execute_result",
          "data": {
            "text/plain": [
              "datetime.datetime(2015, 1, 13, 0, 0)"
            ]
          },
          "metadata": {},
          "execution_count": 50
        }
      ]
    },
    {
      "cell_type": "code",
      "metadata": {
        "colab": {
          "base_uri": "https://localhost:8080/"
        },
        "id": "sVpuXbBWFT9_",
        "outputId": "8e2d0bea-c8d1-4c26-ead0-e94ba411d3f5"
      },
      "source": [
        "from pyspark.sql.functions import mean\n",
        "\n",
        "df.select(mean('Close')).show()"
      ],
      "execution_count": null,
      "outputs": [
        {
          "output_type": "stream",
          "name": "stdout",
          "text": [
            "+-----------------+\n",
            "|       avg(Close)|\n",
            "+-----------------+\n",
            "|72.38844998012726|\n",
            "+-----------------+\n",
            "\n"
          ]
        }
      ]
    },
    {
      "cell_type": "code",
      "metadata": {
        "colab": {
          "base_uri": "https://localhost:8080/"
        },
        "id": "J4LEGoG1FzkC",
        "outputId": "7deeb205-ae12-460a-9643-6ba0dce3e903"
      },
      "source": [
        "from pyspark.sql.functions import min, max\n",
        " \n",
        "df.select(max('Volume'),min('Volume')).show()"
      ],
      "execution_count": null,
      "outputs": [
        {
          "output_type": "stream",
          "name": "stdout",
          "text": [
            "+-----------+-----------+\n",
            "|max(Volume)|min(Volume)|\n",
            "+-----------+-----------+\n",
            "|   80898100|    2094900|\n",
            "+-----------+-----------+\n",
            "\n"
          ]
        }
      ]
    },
    {
      "cell_type": "code",
      "metadata": {
        "colab": {
          "base_uri": "https://localhost:8080/"
        },
        "id": "v7BarO_BF7Q_",
        "outputId": "be541d3c-84d7-4388-a27e-1d6d820d332a"
      },
      "source": [
        "df.filter(df['Close'] < 60).count()"
      ],
      "execution_count": null,
      "outputs": [
        {
          "output_type": "execute_result",
          "data": {
            "text/plain": [
              "81"
            ]
          },
          "metadata": {},
          "execution_count": 53
        }
      ]
    },
    {
      "cell_type": "code",
      "metadata": {
        "colab": {
          "base_uri": "https://localhost:8080/"
        },
        "id": "PmuSNdqVGBtf",
        "outputId": "ff3cc05d-ad5e-40ca-db69-b139ef2c0145"
      },
      "source": [
        "#What percentage of the time was the High greater than 80 dollars ?\n",
        "#In other words, (Number of Days High>80)/(Total Days in the dataset)\n",
        "\n",
        "df.filter('High > 80').count() * 100/df.count()"
      ],
      "execution_count": null,
      "outputs": [
        {
          "output_type": "execute_result",
          "data": {
            "text/plain": [
              "9.141494435612083"
            ]
          },
          "metadata": {},
          "execution_count": 54
        }
      ]
    },
    {
      "cell_type": "code",
      "metadata": {
        "colab": {
          "base_uri": "https://localhost:8080/"
        },
        "id": "9K2eMIJFGDCr",
        "outputId": "e1f798ee-ebee-467a-8741-9644740dd55b"
      },
      "source": [
        "#What is the Pearson correlation between High and Volume?\n",
        "df.corr('High', 'Volume')"
      ],
      "execution_count": null,
      "outputs": [
        {
          "output_type": "execute_result",
          "data": {
            "text/plain": [
              "-0.3384326061737161"
            ]
          },
          "metadata": {},
          "execution_count": 55
        }
      ]
    },
    {
      "cell_type": "code",
      "metadata": {
        "colab": {
          "base_uri": "https://localhost:8080/"
        },
        "id": "8hPTSDN2GJwl",
        "outputId": "a6a22621-15bf-46e9-92c0-bbc6a8e8a48c"
      },
      "source": [
        "#What is the max High per year?\n",
        "\n",
        "from pyspark.sql.functions import year\n",
        " \n",
        "year_df = df.withColumn('Year', year(df['Date']))\n",
        " \n",
        "year_df.groupBy('Year').max()['Year', 'max(High)'].show()"
      ],
      "execution_count": null,
      "outputs": [
        {
          "output_type": "stream",
          "name": "stdout",
          "text": [
            "+----+---------+\n",
            "|Year|max(High)|\n",
            "+----+---------+\n",
            "|2015|90.970001|\n",
            "|2013|81.370003|\n",
            "|2014|88.089996|\n",
            "|2012|77.599998|\n",
            "|2016|75.190002|\n",
            "+----+---------+\n",
            "\n"
          ]
        }
      ]
    },
    {
      "cell_type": "code",
      "metadata": {
        "id": "JCfZzmRwGddM",
        "colab": {
          "base_uri": "https://localhost:8080/"
        },
        "outputId": "f2cd9af8-26da-4a51-acbf-a024bf11e4ea"
      },
      "source": [
        "#What is the average Close for each Calendar Month?\n",
        "#In other words, across all the years, what is the average Close price for Jan,Feb, Mar, etc... Your result will have a value for each of these months.\n",
        "\n",
        "\n",
        "\n",
        "#Create a new column Month from existing Date column\n",
        "month_df = df.withColumn('Month', month(df['Date']))\n",
        " \n",
        "#Group by month and take average of all other columns\n",
        "month_df = month_df.groupBy('Month').mean()\n",
        " \n",
        "#Sort by month\n",
        "month_df = month_df.orderBy('Month')\n",
        " \n",
        "#Display only month and avg(Close), the desired columns\n",
        "month_df['Month', 'avg(Close)'].show()"
      ],
      "execution_count": null,
      "outputs": [
        {
          "output_type": "stream",
          "name": "stdout",
          "text": [
            "+-----+-----------------+\n",
            "|Month|       avg(Close)|\n",
            "+-----+-----------------+\n",
            "|    1|71.44801958415842|\n",
            "|    2|  71.306804443299|\n",
            "|    3|71.77794377570092|\n",
            "|    4|72.97361900952382|\n",
            "|    5|72.30971688679247|\n",
            "|    6| 72.4953774245283|\n",
            "|    7|74.43971943925233|\n",
            "|    8|73.02981855454546|\n",
            "|    9|72.18411785294116|\n",
            "|   10|71.57854545454543|\n",
            "|   11| 72.1110893069307|\n",
            "|   12|72.84792478301885|\n",
            "+-----+-----------------+\n",
            "\n"
          ]
        }
      ]
    },
    {
      "cell_type": "code",
      "metadata": {
        "id": "hIPPV8VyNZvq"
      },
      "source": [
        "import glob\n",
        "\n",
        "\n",
        "\n",
        "for file in sorted(glob.glob(\"./data/policy.parquet/*\")):\n",
        "  print(file)"
      ],
      "execution_count": null,
      "outputs": []
    },
    {
      "cell_type": "code",
      "metadata": {
        "colab": {
          "base_uri": "https://localhost:8080/",
          "height": 887
        },
        "id": "5yCY5nnPQzMi",
        "outputId": "ecae6324-b7d8-4215-a484-0796cb4a4a6e"
      },
      "source": [
        "#sql\n",
        "\n",
        "df = spark.sql(\"\"\" SELECT policy, make, \n",
        "                    CASE\n",
        "                    WHEN inception_date = start_date\n",
        "                    THEN 'New Business'\n",
        "                    ELSE 'Renewal'\n",
        "                    END AS status\n",
        "                    FROM parquet. ./data/policy.paraquet'\n",
        "                    ORDER BY policy,start_date\"\"\")\n",
        "\n",
        "df.show()"
      ],
      "execution_count": null,
      "outputs": [
        {
          "output_type": "stream",
          "name": "stderr",
          "text": [
            "ERROR:root:An unexpected error occurred while tokenizing input\n",
            "The following traceback may be corrupted or invalid\n",
            "The error message is: ('EOF in multi-line string', (1, 46))\n",
            "\n"
          ]
        },
        {
          "output_type": "error",
          "ename": "ParseException",
          "evalue": "ignored",
          "traceback": [
            "\u001b[0;31m---------------------------------------------------------------------------\u001b[0m",
            "\u001b[0;31mParseException\u001b[0m                            Traceback (most recent call last)",
            "\u001b[0;32m<ipython-input-10-803f26d2beb3>\u001b[0m in \u001b[0;36m<module>\u001b[0;34m()\u001b[0m\n\u001b[1;32m      8\u001b[0m                     \u001b[0mEND\u001b[0m \u001b[0mAS\u001b[0m \u001b[0mstatus\u001b[0m\u001b[0;34m\u001b[0m\u001b[0;34m\u001b[0m\u001b[0m\n\u001b[1;32m      9\u001b[0m                     \u001b[0mFROM\u001b[0m \u001b[0mparquet\u001b[0m\u001b[0;34m.\u001b[0m \u001b[0;34m.\u001b[0m\u001b[0;34m/\u001b[0m\u001b[0mdata\u001b[0m\u001b[0;34m/\u001b[0m\u001b[0mpolicy\u001b[0m\u001b[0;34m.\u001b[0m\u001b[0mparaquet\u001b[0m\u001b[0;31m'\u001b[0m\u001b[0;34m\u001b[0m\u001b[0;34m\u001b[0m\u001b[0m\n\u001b[0;32m---> 10\u001b[0;31m                     ORDER BY policy,start_date\"\"\")\n\u001b[0m\u001b[1;32m     11\u001b[0m \u001b[0;34m\u001b[0m\u001b[0m\n\u001b[1;32m     12\u001b[0m \u001b[0mdf\u001b[0m\u001b[0;34m.\u001b[0m\u001b[0mshow\u001b[0m\u001b[0;34m(\u001b[0m\u001b[0;34m)\u001b[0m\u001b[0;34m\u001b[0m\u001b[0;34m\u001b[0m\u001b[0m\n",
            "\u001b[0;32m/usr/local/lib/python3.7/dist-packages/pyspark/sql/session.py\u001b[0m in \u001b[0;36msql\u001b[0;34m(self, sqlQuery)\u001b[0m\n\u001b[1;32m    721\u001b[0m         \u001b[0;34m[\u001b[0m\u001b[0mRow\u001b[0m\u001b[0;34m(\u001b[0m\u001b[0mf1\u001b[0m\u001b[0;34m=\u001b[0m\u001b[0;36m1\u001b[0m\u001b[0;34m,\u001b[0m \u001b[0mf2\u001b[0m\u001b[0;34m=\u001b[0m\u001b[0;34m'row1'\u001b[0m\u001b[0;34m)\u001b[0m\u001b[0;34m,\u001b[0m \u001b[0mRow\u001b[0m\u001b[0;34m(\u001b[0m\u001b[0mf1\u001b[0m\u001b[0;34m=\u001b[0m\u001b[0;36m2\u001b[0m\u001b[0;34m,\u001b[0m \u001b[0mf2\u001b[0m\u001b[0;34m=\u001b[0m\u001b[0;34m'row2'\u001b[0m\u001b[0;34m)\u001b[0m\u001b[0;34m,\u001b[0m \u001b[0mRow\u001b[0m\u001b[0;34m(\u001b[0m\u001b[0mf1\u001b[0m\u001b[0;34m=\u001b[0m\u001b[0;36m3\u001b[0m\u001b[0;34m,\u001b[0m \u001b[0mf2\u001b[0m\u001b[0;34m=\u001b[0m\u001b[0;34m'row3'\u001b[0m\u001b[0;34m)\u001b[0m\u001b[0;34m]\u001b[0m\u001b[0;34m\u001b[0m\u001b[0;34m\u001b[0m\u001b[0m\n\u001b[1;32m    722\u001b[0m         \"\"\"\n\u001b[0;32m--> 723\u001b[0;31m         \u001b[0;32mreturn\u001b[0m \u001b[0mDataFrame\u001b[0m\u001b[0;34m(\u001b[0m\u001b[0mself\u001b[0m\u001b[0;34m.\u001b[0m\u001b[0m_jsparkSession\u001b[0m\u001b[0;34m.\u001b[0m\u001b[0msql\u001b[0m\u001b[0;34m(\u001b[0m\u001b[0msqlQuery\u001b[0m\u001b[0;34m)\u001b[0m\u001b[0;34m,\u001b[0m \u001b[0mself\u001b[0m\u001b[0;34m.\u001b[0m\u001b[0m_wrapped\u001b[0m\u001b[0;34m)\u001b[0m\u001b[0;34m\u001b[0m\u001b[0;34m\u001b[0m\u001b[0m\n\u001b[0m\u001b[1;32m    724\u001b[0m \u001b[0;34m\u001b[0m\u001b[0m\n\u001b[1;32m    725\u001b[0m     \u001b[0;32mdef\u001b[0m \u001b[0mtable\u001b[0m\u001b[0;34m(\u001b[0m\u001b[0mself\u001b[0m\u001b[0;34m,\u001b[0m \u001b[0mtableName\u001b[0m\u001b[0;34m)\u001b[0m\u001b[0;34m:\u001b[0m\u001b[0;34m\u001b[0m\u001b[0;34m\u001b[0m\u001b[0m\n",
            "\u001b[0;32m/usr/local/lib/python3.7/dist-packages/py4j/java_gateway.py\u001b[0m in \u001b[0;36m__call__\u001b[0;34m(self, *args)\u001b[0m\n\u001b[1;32m   1303\u001b[0m         \u001b[0manswer\u001b[0m \u001b[0;34m=\u001b[0m \u001b[0mself\u001b[0m\u001b[0;34m.\u001b[0m\u001b[0mgateway_client\u001b[0m\u001b[0;34m.\u001b[0m\u001b[0msend_command\u001b[0m\u001b[0;34m(\u001b[0m\u001b[0mcommand\u001b[0m\u001b[0;34m)\u001b[0m\u001b[0;34m\u001b[0m\u001b[0;34m\u001b[0m\u001b[0m\n\u001b[1;32m   1304\u001b[0m         return_value = get_return_value(\n\u001b[0;32m-> 1305\u001b[0;31m             answer, self.gateway_client, self.target_id, self.name)\n\u001b[0m\u001b[1;32m   1306\u001b[0m \u001b[0;34m\u001b[0m\u001b[0m\n\u001b[1;32m   1307\u001b[0m         \u001b[0;32mfor\u001b[0m \u001b[0mtemp_arg\u001b[0m \u001b[0;32min\u001b[0m \u001b[0mtemp_args\u001b[0m\u001b[0;34m:\u001b[0m\u001b[0;34m\u001b[0m\u001b[0;34m\u001b[0m\u001b[0m\n",
            "\u001b[0;32m/usr/local/lib/python3.7/dist-packages/pyspark/sql/utils.py\u001b[0m in \u001b[0;36mdeco\u001b[0;34m(*a, **kw)\u001b[0m\n\u001b[1;32m    115\u001b[0m                 \u001b[0;31m# Hide where the exception came from that shows a non-Pythonic\u001b[0m\u001b[0;34m\u001b[0m\u001b[0;34m\u001b[0m\u001b[0;34m\u001b[0m\u001b[0m\n\u001b[1;32m    116\u001b[0m                 \u001b[0;31m# JVM exception message.\u001b[0m\u001b[0;34m\u001b[0m\u001b[0;34m\u001b[0m\u001b[0;34m\u001b[0m\u001b[0m\n\u001b[0;32m--> 117\u001b[0;31m                 \u001b[0;32mraise\u001b[0m \u001b[0mconverted\u001b[0m \u001b[0;32mfrom\u001b[0m \u001b[0;32mNone\u001b[0m\u001b[0;34m\u001b[0m\u001b[0;34m\u001b[0m\u001b[0m\n\u001b[0m\u001b[1;32m    118\u001b[0m             \u001b[0;32melse\u001b[0m\u001b[0;34m:\u001b[0m\u001b[0;34m\u001b[0m\u001b[0;34m\u001b[0m\u001b[0m\n\u001b[1;32m    119\u001b[0m                 \u001b[0;32mraise\u001b[0m\u001b[0;34m\u001b[0m\u001b[0;34m\u001b[0m\u001b[0m\n",
            "\u001b[0;31mParseException\u001b[0m: \nmismatched input '.' expecting {'ADD', 'AFTER', 'ALL', 'ALTER', 'ANALYZE', 'AND', 'ANTI', 'ANY', 'ARCHIVE', 'ARRAY', 'AS', 'ASC', 'AT', 'AUTHORIZATION', 'BETWEEN', 'BOTH', 'BUCKET', 'BUCKETS', 'BY', 'CACHE', 'CASCADE', 'CASE', 'CAST', 'CHANGE', 'CHECK', 'CLEAR', 'CLUSTER', 'CLUSTERED', 'CODEGEN', 'COLLATE', 'COLLECTION', 'COLUMN', 'COLUMNS', 'COMMENT', 'COMMIT', 'COMPACT', 'COMPACTIONS', 'COMPUTE', 'CONCATENATE', 'CONSTRAINT', 'COST', 'CREATE', 'CROSS', 'CUBE', 'CURRENT', 'CURRENT_DATE', 'CURRENT_TIME', 'CURRENT_TIMESTAMP', 'CURRENT_USER', 'DATA', 'DATABASE', DATABASES, 'DBPROPERTIES', 'DEFINED', 'DELETE', 'DELIMITED', 'DESC', 'DESCRIBE', 'DFS', 'DIRECTORIES', 'DIRECTORY', 'DISTINCT', 'DISTRIBUTE', 'DIV', 'DROP', 'ELSE', 'END', 'ESCAPE', 'ESCAPED', 'EXCEPT', 'EXCHANGE', 'EXISTS', 'EXPLAIN', 'EXPORT', 'EXTENDED', 'EXTERNAL', 'EXTRACT', 'FALSE', 'FETCH', 'FIELDS', 'FILTER', 'FILEFORMAT', 'FIRST', 'FOLLOWING', 'FOR', 'FOREIGN', 'FORMAT', 'FORMATTED', 'FROM', 'FULL', 'FUNCTION', 'FUNCTIONS', 'GLOBAL', 'GRANT', 'GROUP', 'GROUPING', 'HAVING', 'IF', 'IGNORE', 'IMPORT', 'IN', 'INDEX', 'INDEXES', 'INNER', 'INPATH', 'INPUTFORMAT', 'INSERT', 'INTERSECT', 'INTERVAL', 'INTO', 'IS', 'ITEMS', 'JOIN', 'KEYS', 'LAST', 'LATERAL', 'LAZY', 'LEADING', 'LEFT', 'LIKE', 'LIMIT', 'LINES', 'LIST', 'LOAD', 'LOCAL', 'LOCATION', 'LOCK', 'LOCKS', 'LOGICAL', 'MACRO', 'MAP', 'MATCHED', 'MERGE', 'MSCK', 'NAMESPACE', 'NAMESPACES', 'NATURAL', 'NO', NOT, 'NULL', 'NULLS', 'OF', 'ON', 'ONLY', 'OPTION', 'OPTION...\n\n== SQL ==\n SELECT policy, make, \n                    CASE\n                    WHEN inception_date = start_date\n                    THEN 'New Business'\n                    ELSE 'Renewal'\n                    END AS status\n                    FROM parquet. ./data/policy.paraquet'\n----------------------------------^^^\n                    ORDER BY policy,start_date\n"
          ]
        }
      ]
    },
    {
      "cell_type": "code",
      "metadata": {
        "colab": {
          "base_uri": "https://localhost:8080/"
        },
        "id": "8LFaPuNFU4WT",
        "outputId": "d7dc5678-3eac-42cb-bd39-83d79ade5a8d"
      },
      "source": [
        "policyDF.explain()"
      ],
      "execution_count": null,
      "outputs": [
        {
          "output_type": "stream",
          "name": "stdout",
          "text": [
            "== Physical Plan ==\n",
            "*(1) Project [policy#510, make#511, cast(vehicle_age#512 as int) AS vehicle_age#535, cast(sum_insured#513 as int) AS sum_insured#526, inception_date#514, start_date#515, end_date#516, cast(premium#517 as int) AS premium#544]\n",
            "+- FileScan csv [policy#510,make#511,vehicle_age#512,sum_insured#513,inception_date#514,start_date#515,end_date#516,premium#517] Batched: false, DataFilters: [], Format: CSV, Location: InMemoryFileIndex[file:/content/policy.csv], PartitionFilters: [], PushedFilters: [], ReadSchema: struct<policy:string,make:string,vehicle_age:string,sum_insured:string,inception_date:string,star...\n",
            "\n",
            "\n"
          ]
        }
      ]
    },
    {
      "cell_type": "code",
      "metadata": {
        "colab": {
          "base_uri": "https://localhost:8080/"
        },
        "id": "ke4AJyceU9W5",
        "outputId": "eaaac4bb-8c2f-4d8b-fd7c-96dfabbac399"
      },
      "source": [
        "policyDF.explain(mode=\"formatted\")"
      ],
      "execution_count": null,
      "outputs": [
        {
          "output_type": "stream",
          "name": "stdout",
          "text": [
            "== Physical Plan ==\n",
            "* Project (2)\n",
            "+- Scan csv  (1)\n",
            "\n",
            "\n",
            "(1) Scan csv \n",
            "Output [8]: [policy#510, make#511, vehicle_age#512, sum_insured#513, inception_date#514, start_date#515, end_date#516, premium#517]\n",
            "Batched: false\n",
            "Location: InMemoryFileIndex [file:/content/policy.csv]\n",
            "ReadSchema: struct<policy:string,make:string,vehicle_age:string,sum_insured:string,inception_date:string,start_date:string,end_date:string,premium:string>\n",
            "\n",
            "(2) Project [codegen id : 1]\n",
            "Output [8]: [policy#510, make#511, cast(vehicle_age#512 as int) AS vehicle_age#535, cast(sum_insured#513 as int) AS sum_insured#526, inception_date#514, start_date#515, end_date#516, cast(premium#517 as int) AS premium#544]\n",
            "Input [8]: [policy#510, make#511, vehicle_age#512, sum_insured#513, inception_date#514, start_date#515, end_date#516, premium#517]\n",
            "\n",
            "\n"
          ]
        }
      ]
    },
    {
      "cell_type": "code",
      "metadata": {
        "colab": {
          "base_uri": "https://localhost:8080/"
        },
        "id": "NLd4j1DjVX7n",
        "outputId": "af6031db-1803-4035-974f-a1126f00fc94"
      },
      "source": [
        "#parallelize\n",
        "\n",
        "spark = SparkSession.builder.appName(\"EX1\").getOrCreate()\n",
        "\n",
        "rdd = spark.sparkContext.parallelize([1,2,3,4,5])\n",
        "rddCollect = rdd.collect()\n",
        "\n",
        "print(\"Number of partitions: \" + str(rdd.getNumPartitions()))\n",
        "print(\"Actions:First element: \" + str(rdd.first()))\n",
        "print(rddCollect)\n",
        "\n",
        "emptyRDD = spark.sparkContext.emptyRDD()\n",
        "emptyRDD2 = rdd = spark.sparkContext.parallelize([])\n",
        "\n",
        "print(\"\" + str(emptyRDD2.isEmpty()))"
      ],
      "execution_count": null,
      "outputs": [
        {
          "output_type": "stream",
          "name": "stdout",
          "text": [
            "Number of partitions: 2\n",
            "Actions:First element: 1\n",
            "[1, 2, 3, 4, 5]\n",
            "True\n"
          ]
        }
      ]
    },
    {
      "cell_type": "code",
      "metadata": {
        "id": "apqXFzcyWSOX"
      },
      "source": [
        ""
      ],
      "execution_count": null,
      "outputs": []
    }
  ]
}